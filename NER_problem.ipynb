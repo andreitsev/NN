{
 "cells": [
  {
   "cell_type": "code",
   "execution_count": 88,
   "metadata": {},
   "outputs": [],
   "source": [
    "DIR_PATH = '/Users/anton.andreytsev/Desktop/NER/'\n",
    "os.chdir(DIR_PATH)"
   ]
  },
  {
   "cell_type": "code",
   "execution_count": 89,
   "metadata": {},
   "outputs": [],
   "source": [
    "import os \n",
    "import sys\n",
    "import re\n",
    "import json\n",
    "import time \n",
    "from tqdm import tqdm_notebook\n",
    "import copy\n",
    "import pickle\n",
    "import tqdm\n",
    "import re\n",
    "import itertools\n",
    "import warnings\n",
    "warnings.filterwarnings('ignore')"
   ]
  },
  {
   "cell_type": "code",
   "execution_count": 90,
   "metadata": {},
   "outputs": [],
   "source": [
    "import matplotlib\n",
    "import matplotlib.pyplot as plt\n",
    "import pandas as pd\n",
    "import numpy as np\n",
    "import scipy\n",
    "import seaborn as sns\n",
    "import gensim\n",
    "import pymorphy2\n",
    "import torch\n",
    "import torch.autograd as autograd\n",
    "from torch.autograd import Variable\n",
    "import torch.nn as nn\n",
    "import torch.nn.functional as F\n",
    "import torch.optim as optim\n",
    "from torch.utils.data import DataLoader\n",
    "from torch.nn.utils.rnn import pack_padded_sequence, pad_packed_sequence\n",
    "import torchtext\n",
    "from torchtext.data import Field\n",
    "import gensim\n",
    "import nltk"
   ]
  },
  {
   "cell_type": "code",
   "execution_count": 91,
   "metadata": {},
   "outputs": [],
   "source": [
    "# Загружаем необходимый предобработчик (он понадобится для приведения текстов к виду, который использовался для обучения)\n",
    "from data_preparation import get_preprocessor\n",
    "# Модуль для записи списка со словарями (выходы парсера) на текстах\n",
    "from parse_file import parse_file\n",
    "# Модуль для создания датафрейма для обучения из списка словарей - выхода парсера (результат работы parse_file.py)\n",
    "from parser_output_to_learning_df import prepate_texts_and_biotags"
   ]
  },
  {
   "cell_type": "code",
   "execution_count": 92,
   "metadata": {},
   "outputs": [],
   "source": [
    "%matplotlib inline\n",
    "matplotlib.rcParams['figure.figsize'] = (8, 8)\n",
    "sns.set_style('whitegrid')"
   ]
  },
  {
   "cell_type": "markdown",
   "metadata": {},
   "source": [
    "Пример сборки данных для обучения из консоли:\n",
    "\n",
    "1) Переходим в папку, где лежат все данные (cd \\Users\\anton.andreytsev\\Desktop\\NER)\n",
    "\n",
    "2) python parse_file.py -fp=<<Путь до файла с сырыми текстами>> -w2s=<<Путь куда сохранить .json с результирующим списком>> --n_lines=50 \n",
    "\n",
    "После шага 2 получаем файл со списком словарей.\n",
    "\n",
    "3) python parser_output_to_learning_df.py -fp=\\Users\\anton.andreytsev\\Desktop\\NER\\health_mail_parsed.json -w2s=.\\all_data.csv\n",
    "\n",
    "Дальше файл all_data.csv нужно разбить на train_df.csv, test_df.csv и val_df.csv"
   ]
  },
  {
   "cell_type": "markdown",
   "metadata": {},
   "source": [
    "---\n",
    "### Dataloader preparation\n",
    "---"
   ]
  },
  {
   "cell_type": "markdown",
   "metadata": {},
   "source": [
    "Решается задача NER. Над каждым словом нужно поставить тег - один из симптомов или же тег <<о>> - отсутствие тега.\n",
    "\n",
    "Основные данные для работы уже подготовлены, это тексты train_df, val_df и test_df. Первые 2 нужны для обучения модели, последний - для оценки качества работы модели. Тексты уже лемматизированы. Данные - распарсенные тексты health.mail.ru, и данные медицинских карт, прогнанные через парсер."
   ]
  },
  {
   "cell_type": "markdown",
   "metadata": {},
   "source": [
    "Датафреймы имеют такой вид:"
   ]
  },
  {
   "cell_type": "raw",
   "metadata": {},
   "source": [
    "\n",
    "                        texts\t                                              tags\n",
    "6039\tактивный жалоба не предьявлять . врач вызвать ...\to o o o o o o o o o o o o o o b-температура o o o\n",
    "27173\tболеть несколько день , осмотреть врач по дмс ...\to o o o o o o o o o o o o o o o\n",
    "2012\t27.12 появиться кашель и насморк . 28.12 сохра...\to o b-кашель o b-насморк o o b-кашель i-кашель...\n",
    "3491\tна 2 х кратный рвота\to o o o b-рвота\n",
    "22101\tздравствовать , павел андрей ! не мочь найти р...\to o o o o o o o o o o o o o o o o o o o o o o ..."
   ]
  },
  {
   "cell_type": "markdown",
   "metadata": {},
   "source": [
    "Инициализация преобразователей для torchtext"
   ]
  },
  {
   "cell_type": "code",
   "execution_count": 7,
   "metadata": {},
   "outputs": [],
   "source": [
    "my_tokenizer = lambda x: x.split(' ')\n",
    "TEXT = Field(sequential=True, tokenize=my_tokenizer, lower=True)\n",
    "LABEL = Field(sequential=True, tokenize=my_tokenizer, lower=True, unk_token=None)"
   ]
  },
  {
   "cell_type": "code",
   "execution_count": 59,
   "metadata": {},
   "outputs": [],
   "source": [
    "df_tr = pd.read_csv(os.path.join(DIR_PATH, 'train_df.csv'))\n",
    "df_val = pd.read_csv(os.path.join(DIR_PATH, 'val_df.csv'))\n",
    "N_TRAIN_BATCHES = len(df_tr) # дальше поделим на BATCH_SIZE\n",
    "N_VAL_BATCHES = len(df_val)\n",
    "del df_tr, df_val"
   ]
  },
  {
   "cell_type": "code",
   "execution_count": 27,
   "metadata": {},
   "outputs": [
    {
     "name": "stdout",
     "output_type": "stream",
     "text": [
      "Wall time: 32.1 s\n"
     ]
    }
   ],
   "source": [
    "%%time\n",
    "# Составление из сохранённых выше файлов (train_df.csv, test_df.csv и val_df.csv) словаря встречаемости слов для дальнейшего составление батчей \n",
    "from torchtext.data import TabularDataset\n",
    "trn_datafields = [(\"texts\", TEXT), (\"tags\", LABEL)]\n",
    "trn = TabularDataset(\n",
    "           path=os.path.join(DIR_PATH, 'train_df.csv'), # the file path\n",
    "           format='csv',\n",
    "           skip_header=True, # if your csv header has a header, make sure to pass this to ensure it doesn't get proceesed as data!\n",
    "           fields=trn_datafields)\n",
    "\n",
    "val_datafields = [(\"texts\", TEXT), (\"tags\", LABEL)]\n",
    "val = TabularDataset(\n",
    "           path=os.path.join(DIR_PATH, 'val_df.csv'), # the file path\n",
    "           format='csv',\n",
    "           skip_header=True, # if your csv header has a header, make sure to pass this to ensure it doesn't get proceesed as data!\n",
    "           fields=val_datafields)\n",
    " \n",
    "tst_datafields = [(\"texts\", TEXT), ('tags', LABEL)]\n",
    "tst = TabularDataset(\n",
    "           path=os.path.join(DIR_PATH, 'test_df.csv'), # the file path\n",
    "           format='csv',\n",
    "           skip_header=True, # if your csv header has a header, make sure to pass this to ensure it doesn't get proceesed as data!\n",
    "           fields=tst_datafields)\n"
   ]
  },
  {
   "cell_type": "code",
   "execution_count": 28,
   "metadata": {},
   "outputs": [],
   "source": [
    "# Составление словаря\n",
    "TEXT.build_vocab(trn, max_size=50000, specials_first=True)\n",
    "LABEL.build_vocab(trn, specials_first=False)\n",
    "words_id_dict = dict(TEXT.vocab.stoi)\n",
    "tags_id_dict = dict(LABEL.vocab.stoi)\n",
    "json.dump(words_id_dict, open(os.path.join(DIR_PATH, 'words_id_dict.json'), mode='w', encoding='utf-8'), indent=2, ensure_ascii=False)\n",
    "json.dump(tags_id_dict, open(os.path.join(DIR_PATH, 'tags_id_dict.json'), mode='w', encoding='utf-8'), indent=2, ensure_ascii=False)"
   ]
  },
  {
   "cell_type": "code",
   "execution_count": 29,
   "metadata": {},
   "outputs": [],
   "source": [
    "# Составление батчей \n",
    "from torchtext.data import Iterator, BucketIterator\n",
    "BATCH_SIZE = 100\n",
    "N_TRAIN_BATCHES /= BATCH_SIZE \n",
    "N_VAL_BATCHES /= BATCH_SIZE\n",
    "train_cards_iter = BucketIterator(trn, batch_size=BATCH_SIZE, device=torch.device('cuda:0'), sort_key=lambda x: len(x.texts), \n",
    "                                sort_within_batch=True, repeat=False)\n",
    "test_cards_iter = BucketIterator(tst, batch_size=BATCH_SIZE, device=torch.device('cuda:0'), sort_key=lambda x: len(x.texts), \n",
    "                                sort_within_batch=True, repeat=False)\n",
    "val_cards_iter = BucketIterator(val, batch_size=BATCH_SIZE, device=torch.device('cuda:0'), sort_key=lambda x: len(x.texts), \n",
    "                                sort_within_batch=True, repeat=False)\n",
    "\n",
    "class BatchWrapper:\n",
    "    def __init__(self, dl, x_var, y_vars):\n",
    "        self.dl, self.x_var, self.y_vars = dl, x_var, y_vars # we pass in the list of attributes for x and y\n",
    "    \n",
    "    def __iter__(self):\n",
    "        for batch in self.dl:\n",
    "            x = getattr(batch, self.x_var) # we assume only one input in this wrapper\n",
    "            \n",
    "            if self.y_vars is not None: # we will concatenate y into a single tensor\n",
    "                y = torch.cat([getattr(batch, feat).unsqueeze(1) for feat in self.y_vars], dim=1).float()\n",
    "            else:\n",
    "                y = torch.zeros((1))\n",
    "\n",
    "            yield (x, y)\n",
    "    \n",
    "    def __len__(self):\n",
    "        return len(self.dl)\n",
    "\n",
    "train_cards_dl = BatchWrapper(train_cards_iter, 'texts', ['tags'])\n",
    "test_cards_dl = BatchWrapper(test_cards_iter, 'texts', ['tags'])\n",
    "val_cards_dl = BatchWrapper(val_cards_iter, 'texts', ['tags'])"
   ]
  },
  {
   "cell_type": "code",
   "execution_count": 291,
   "metadata": {},
   "outputs": [],
   "source": [
    "x, y = next(val_cards_dl.__iter__()) # Пример батчей X, y\n",
    "y = y.squeeze()"
   ]
  },
  {
   "cell_type": "markdown",
   "metadata": {},
   "source": [
    "---\n",
    "### Model and train\n",
    "---"
   ]
  },
  {
   "cell_type": "code",
   "execution_count": 30,
   "metadata": {},
   "outputs": [],
   "source": [
    "#  Нейросетка для NER\n",
    "class LSTM_TAGGER(nn.Module):\n",
    "    def __init__(self, device, vocab_size, hidd_dim, num_layers, n_classes, embedding_dim=100, \n",
    "                 bidirectional=True, dropout_prob=0.2, lstm_dropout=0.3):\n",
    "        super(LSTM_TAGGER, self).__init__()\n",
    "        self.device = device\n",
    "        self.num_lay = num_layers\n",
    "        self.hidd_dim = hidd_dim\n",
    "        self.number_of_dir = 2 if bidirectional else 1\n",
    "        self.embed = nn.Embedding(num_embeddings=vocab_size, embedding_dim=embedding_dim)\n",
    "        self.rnn = nn.LSTM(input_size=embedding_dim, hidden_size=hidd_dim, num_layers=num_layers, bidirectional=bidirectional, \n",
    "                          dropout=lstm_dropout)\n",
    "        self.dropout = nn.Dropout(p=dropout_prob)\n",
    "        self.dense = nn.Linear(in_features=hidd_dim*self.number_of_dir, out_features=n_classes)\n",
    "        self.hidden_state = None\n",
    "        \n",
    "    def init_hidden(self, x=None):\n",
    "        if x is None:\n",
    "            return (torch.zeros((self.num_lay*self.number_of_dir, self.batch_size, self.hidd_dim)).to(device=self.device), \n",
    "                    torch.zeros((self.num_lay*self.number_of_dir, self.batch_size, self.hidd_dim)).to(device=self.device))\n",
    "        else:\n",
    "            return (torch.zeros((self.num_lay*self.number_of_dir, x.shape[1], self.hidd_dim)).to(device=x.device.type), \n",
    "                    torch.zeros((self.num_lay*self.number_of_dir, x.shape[1], self.hidd_dim)).to(device=x.device.type))\n",
    "    \n",
    "    def forward(self, x):\n",
    "        # x  - (Seq_len, Batch_size)\n",
    "        x_emb = self.dropout(self.embed(x))\n",
    "        x_emb = pack_padded_sequence(x_emb, lengths=[sum(i.cpu() != words_id_dict['<pad>']).item() for i in x.t()])\n",
    "        out_packed, self.hidden_state = self.rnn(x_emb, self.hidden_state)\n",
    "        out_unpacked = pad_packed_sequence(out_packed)[0]\n",
    "        return self.dense(out_unpacked)"
   ]
  },
  {
   "cell_type": "markdown",
   "metadata": {},
   "source": [
    "Сохраним архитектуру сетки в .py файл для дальнейшего вызова"
   ]
  },
  {
   "cell_type": "code",
   "execution_count": 76,
   "metadata": {},
   "outputs": [
    {
     "name": "stdout",
     "output_type": "stream",
     "text": [
      "Overwriting /Users/anton.andreytsev/Desktop/NER/model_architecture.py\n"
     ]
    }
   ],
   "source": [
    "# %%writefile /Users/anton.andreytsev/Desktop/NER/model_architecture.py\n",
    "\n",
    "# import torch\n",
    "# import torch.nn as nn\n",
    "# import torch.nn.functional as F\n",
    "# import torch.optim as optim\n",
    "# from torch.utils.data import DataLoader\n",
    "# from torch.nn.utils.rnn import pack_padded_sequence, pad_packed_sequence\n",
    "\n",
    "# # Не забыть изменить PAD_TOKEN!!!\n",
    "# PAD_TOKEN = 1\n",
    "\n",
    "# class LSTM_TAGGER(nn.Module):\n",
    "#     def __init__(self, device, vocab_size, hidd_dim, num_layers, n_classes, embedding_dim=100, \n",
    "#                  bidirectional=True, dropout_prob=0.2, lstm_dropout=0.3):\n",
    "#         super(LSTM_TAGGER, self).__init__()\n",
    "#         self.device = device\n",
    "#         self.num_lay = num_layers\n",
    "#         self.hidd_dim = hidd_dim\n",
    "#         self.number_of_dir = 2 if bidirectional else 1\n",
    "#         self.embed = nn.Embedding(num_embeddings=vocab_size, embedding_dim=embedding_dim)\n",
    "#         self.rnn = nn.LSTM(input_size=embedding_dim, hidden_size=hidd_dim, num_layers=num_layers, bidirectional=bidirectional, \n",
    "#                           dropout=lstm_dropout)\n",
    "#         self.dropout = nn.Dropout(p=dropout_prob)\n",
    "#         self.dense = nn.Linear(in_features=hidd_dim*self.number_of_dir, out_features=n_classes)\n",
    "#         self.hidden_state = None\n",
    "        \n",
    "#     def init_hidden(self, x=None):\n",
    "#         if x is None:\n",
    "#             return (torch.zeros((self.num_lay*self.number_of_dir, self.batch_size, self.hidd_dim)).to(device=self.device), \n",
    "#                     torch.zeros((self.num_lay*self.number_of_dir, self.batch_size, self.hidd_dim)).to(device=self.device))\n",
    "#         else:\n",
    "#             return (torch.zeros((self.num_lay*self.number_of_dir, x.shape[1], self.hidd_dim)).to(device=x.device.type), \n",
    "#                     torch.zeros((self.num_lay*self.number_of_dir, x.shape[1], self.hidd_dim)).to(device=x.device.type))\n",
    "    \n",
    "#     def forward(self, x):\n",
    "#         # x  - (Seq_len, Batch_size)\n",
    "#         x_emb = self.dropout(self.embed(x))\n",
    "#         x_emb = pack_padded_sequence(x_emb, lengths=[sum(i.cpu() != PAD_TOKEN).item() for i in x.t()])\n",
    "#         out_packed, self.hidden_state = self.rnn(x_emb, self.hidden_state)\n",
    "#         out_unpacked = pad_packed_sequence(out_packed)[0]\n",
    "#         return self.dense(out_unpacked)"
   ]
  },
  {
   "cell_type": "code",
   "execution_count": 31,
   "metadata": {},
   "outputs": [],
   "source": [
    "VOCAB_SIZE = 50002 #len(words_id_dict)\n",
    "PAD_IDX = tags_id_dict['<pad>']\n",
    "DEVICE = 'cuda'"
   ]
  },
  {
   "cell_type": "code",
   "execution_count": 32,
   "metadata": {},
   "outputs": [],
   "source": [
    "# Инициализация сети\n",
    "# Больше двух слоёв LSTM не пробовал - долго обучается, hidden_size > 300 в память не влезает. С такими параметрами вроде норм\n",
    "model_lstm = LSTM_TAGGER(num_layers=2, hidd_dim=200, n_classes=len(tags_id_dict)-1, embedding_dim=300, vocab_size=VOCAB_SIZE,\n",
    "                          bidirectional=True, device='cuda')\n",
    "criterion = nn.CrossEntropyLoss(ignore_index=tags_id_dict['<pad>'], reduction='mean')\n",
    "opt = optim.Adam(model_lstm.parameters(), lr=1e-4)\n",
    "reduce_plato = optim.lr_scheduler.ReduceLROnPlateau(opt, patience=5, factor=0.01)"
   ]
  },
  {
   "cell_type": "code",
   "execution_count": 33,
   "metadata": {
    "scrolled": true
   },
   "outputs": [
    {
     "data": {
      "application/vnd.jupyter.widget-view+json": {
       "model_id": "eae9281d434440a7b1d89c7cc17581cd",
       "version_major": 2,
       "version_minor": 0
      },
      "text/plain": [
       "HBox(children=(IntProgress(value=0, max=99), HTML(value='')))"
      ]
     },
     "metadata": {},
     "output_type": "display_data"
    },
    {
     "name": "stdout",
     "output_type": "stream",
     "text": [
      "Epoch: 1 Train loss: 32.7105 Test loss: 11.8372 Time: 425.57\n",
      "Epoch: 2 Train loss: 9.3469 Test loss: 6.8283 Time: 417.52\n",
      "Epoch: 3 Train loss: 5.9917 Test loss: 4.5990 Time: 429.83\n",
      "Epoch: 4 Train loss: 4.2887 Test loss: 3.3487 Time: 442.40\n",
      "Epoch: 5 Train loss: 3.2497 Test loss: 2.5904 Time: 441.52\n",
      "Epoch: 6 Train loss: 2.5869 Test loss: 2.1347 Time: 441.23\n",
      "Epoch: 7 Train loss: 2.1365 Test loss: 1.7978 Time: 442.90\n",
      "Epoch: 8 Train loss: 1.8101 Test loss: 1.5180 Time: 445.94\n",
      "Epoch: 9 Train loss: 1.5716 Test loss: 1.3435 Time: 444.73\n",
      "Epoch: 10 Train loss: 1.3810 Test loss: 1.2133 Time: 444.70\n",
      "Epoch: 11 Train loss: 1.2313 Test loss: 1.1367 Time: 445.40\n",
      "Epoch: 12 Train loss: 1.1039 Test loss: 1.0169 Time: 443.20\n",
      "Epoch: 13 Train loss: 1.0080 Test loss: 0.9650 Time: 442.13\n",
      "Epoch: 14 Train loss: 0.9110 Test loss: 0.9063 Time: 444.63\n",
      "Epoch: 15 Train loss: 0.8402 Test loss: 0.8685 Time: 445.85\n",
      "Epoch: 16 Train loss: 0.7718 Test loss: 0.7986 Time: 443.64\n",
      "Epoch: 17 Train loss: 0.7153 Test loss: 0.8300 Time: 442.50\n",
      "Epoch: 18 Train loss: 0.6585 Test loss: 0.8353 Time: 440.41\n",
      "Epoch: 19 Train loss: 0.6119 Test loss: 0.7229 Time: 437.64\n",
      "Epoch: 20 Train loss: 0.5701 Test loss: 0.7063 Time: 435.74\n",
      "Epoch: 21 Train loss: 0.5340 Test loss: 0.7132 Time: 430.54\n",
      "Epoch: 22 Train loss: 0.4997 Test loss: 0.6606 Time: 430.57\n",
      "Epoch: 23 Train loss: 0.4638 Test loss: 0.7021 Time: 431.67\n",
      "Epoch: 24 Train loss: 0.4395 Test loss: 0.6646 Time: 433.09\n",
      "Epoch: 25 Train loss: 0.4099 Test loss: 0.6346 Time: 431.77\n",
      "Epoch: 26 Train loss: 0.3883 Test loss: 0.6480 Time: 432.61\n",
      "Epoch: 27 Train loss: 0.3652 Test loss: 0.6355 Time: 431.74\n",
      "Epoch: 28 Train loss: 0.3408 Test loss: 0.6183 Time: 431.03\n",
      "Epoch: 29 Train loss: 0.3225 Test loss: 0.6104 Time: 433.31\n",
      "Epoch: 30 Train loss: 0.3058 Test loss: 0.6206 Time: 431.48\n",
      "Epoch: 31 Train loss: 0.2894 Test loss: 0.6078 Time: 433.37\n",
      "Epoch: 32 Train loss: 0.2756 Test loss: 0.5939 Time: 432.03\n",
      "Epoch: 33 Train loss: 0.2603 Test loss: 0.6068 Time: 433.94\n",
      "Epoch: 34 Train loss: 0.2496 Test loss: 0.6472 Time: 434.28\n",
      "Epoch: 35 Train loss: 0.2363 Test loss: 0.6003 Time: 433.33\n",
      "Epoch: 36 Train loss: 0.2222 Test loss: 0.6026 Time: 432.97\n",
      "Epoch: 37 Train loss: 0.2122 Test loss: 0.6114 Time: 435.96\n",
      "Epoch: 38 Train loss: 0.2023 Test loss: 0.5953 Time: 434.67\n",
      "Epoch: 39 Train loss: 0.1796 Test loss: 0.5864 Time: 430.81\n",
      "Epoch: 40 Train loss: 0.1774 Test loss: 0.5864 Time: 434.17\n",
      "Epoch: 41 Train loss: 0.1762 Test loss: 0.5876 Time: 431.65\n",
      "Epoch: 42 Train loss: 0.1741 Test loss: 0.5861 Time: 433.39\n",
      "Epoch: 43 Train loss: 0.1732 Test loss: 0.5870 Time: 432.52\n",
      "Epoch: 44 Train loss: 0.1750 Test loss: 0.5873 Time: 432.25\n",
      "Epoch: 45 Train loss: 0.1727 Test loss: 0.5867 Time: 431.33\n",
      "Epoch: 46 Train loss: 0.1720 Test loss: 0.5871 Time: 434.44\n",
      "Epoch: 47 Train loss: 0.1707 Test loss: 0.5875 Time: 431.46\n",
      "Epoch: 48 Train loss: 0.1705 Test loss: 0.5860 Time: 434.32\n",
      "Epoch: 49 Train loss: 0.1698 Test loss: 0.5865 Time: 432.87\n",
      "Epoch: 50 Train loss: 0.1710 Test loss: 0.5878 Time: 434.08\n",
      "Epoch: 51 Train loss: 0.1697 Test loss: 0.5864 Time: 430.90\n",
      "Epoch: 52 Train loss: 0.1692 Test loss: 0.5869 Time: 431.52\n",
      "Epoch: 53 Train loss: 0.1697 Test loss: 0.5878 Time: 433.26\n",
      "Epoch: 54 Train loss: 0.1700 Test loss: 0.5876 Time: 433.05\n",
      "Epoch: 55 Train loss: 0.1713 Test loss: 0.5909 Time: 434.84\n",
      "Epoch: 56 Train loss: 0.1724 Test loss: 0.5884 Time: 435.28\n",
      "Epoch: 57 Train loss: 0.1689 Test loss: 0.5877 Time: 432.24\n",
      "Epoch: 58 Train loss: 0.1685 Test loss: 0.5874 Time: 430.50\n",
      "Epoch: 59 Train loss: 0.1713 Test loss: 0.5867 Time: 430.90\n",
      "Epoch: 60 Train loss: 0.1701 Test loss: 0.5874 Time: 432.93\n",
      "Epoch: 61 Train loss: 0.1700 Test loss: 0.5876 Time: 457.50\n",
      "Epoch: 62 Train loss: 0.1717 Test loss: 0.5878 Time: 433.85\n",
      "Epoch: 63 Train loss: 0.1729 Test loss: 0.5883 Time: 433.16\n",
      "Epoch: 64 Train loss: 0.1703 Test loss: 0.5885 Time: 431.76\n",
      "Epoch: 65 Train loss: 0.1706 Test loss: 0.5868 Time: 431.75\n",
      "Epoch: 66 Train loss: 0.1693 Test loss: 0.5876 Time: 431.56\n",
      "Epoch: 67 Train loss: 0.1686 Test loss: 0.5877 Time: 431.93\n",
      "Epoch: 68 Train loss: 0.1697 Test loss: 0.5871 Time: 432.38\n",
      "Epoch: 69 Train loss: 0.1711 Test loss: 0.5867 Time: 432.17\n",
      "Epoch: 70 Train loss: 0.1696 Test loss: 0.5883 Time: 428.54\n",
      "Epoch: 71 Train loss: 0.1705 Test loss: 0.5948 Time: 432.22\n",
      "Epoch: 72 Train loss: 0.1704 Test loss: 0.5877 Time: 429.61\n",
      "Epoch: 73 Train loss: 0.1689 Test loss: 0.5874 Time: 432.22\n",
      "Epoch: 74 Train loss: 0.1683 Test loss: 0.5874 Time: 434.87\n",
      "Epoch: 75 Train loss: 0.1689 Test loss: 0.5881 Time: 433.00\n",
      "Epoch: 76 Train loss: 0.1698 Test loss: 0.5878 Time: 434.66\n",
      "Epoch: 77 Train loss: 0.1697 Test loss: 0.5878 Time: 428.35\n",
      "Epoch: 78 Train loss: 0.1693 Test loss: 0.5879 Time: 431.27\n",
      "Epoch: 79 Train loss: 0.1710 Test loss: 0.5874 Time: 432.46\n",
      "Epoch: 80 Train loss: 0.1690 Test loss: 0.5908 Time: 432.82\n",
      "Epoch: 81 Train loss: 0.1697 Test loss: 0.5878 Time: 435.07\n",
      "Epoch: 82 Train loss: 0.1708 Test loss: 0.5891 Time: 432.73\n",
      "Epoch: 83 Train loss: 0.1695 Test loss: 0.5881 Time: 434.70\n",
      "Epoch: 84 Train loss: 0.1686 Test loss: 0.5870 Time: 429.85\n",
      "Epoch: 85 Train loss: 0.1708 Test loss: 0.5891 Time: 444.54\n",
      "Epoch: 86 Train loss: 0.1691 Test loss: 0.5891 Time: 433.43\n",
      "Epoch: 87 Train loss: 0.1711 Test loss: 0.5877 Time: 432.77\n",
      "Epoch: 88 Train loss: 0.1697 Test loss: 0.5909 Time: 427.18\n",
      "Epoch: 89 Train loss: 0.1700 Test loss: 0.5877 Time: 430.34\n",
      "Epoch: 90 Train loss: 0.1706 Test loss: 0.5885 Time: 432.04\n",
      "Epoch: 91 Train loss: 0.1695 Test loss: 0.5874 Time: 430.81\n",
      "Epoch: 92 Train loss: 0.1692 Test loss: 0.5891 Time: 432.35\n",
      "Epoch: 93 Train loss: 0.1683 Test loss: 0.5903 Time: 430.91\n",
      "Epoch: 94 Train loss: 0.1700 Test loss: 0.5868 Time: 431.88\n",
      "Epoch: 95 Train loss: 0.1694 Test loss: 0.5872 Time: 429.66\n",
      "Epoch: 96 Train loss: 0.1689 Test loss: 0.5872 Time: 432.77\n",
      "Epoch: 97 Train loss: 0.1717 Test loss: 0.5877 Time: 430.01\n",
      "Epoch: 98 Train loss: 0.1716 Test loss: 0.5883 Time: 430.45\n",
      "Epoch: 99 Train loss: 0.1695 Test loss: 0.5897 Time: 430.06\n",
      "\n"
     ]
    }
   ],
   "source": [
    "# Обучение сети\n",
    "EPOCHS = 100\n",
    "model_lstm.to(DEVICE) # перевод сети на gpu\n",
    "criterion.to(DEVICE)\n",
    "train_loss_epochs = []\n",
    "test_loss_epochs = []\n",
    "for epoch in tqdm_notebook(range(1, EPOCHS)):\n",
    "    model_lstm.to(DEVICE)\n",
    "    model_lstm.train()\n",
    "    train_loss = 0\n",
    "    st = time.perf_counter()\n",
    "    for x_, y_ in train_cards_dl: \n",
    "        opt.zero_grad()\n",
    "        y_ = y_.squeeze(1).long().to(DEVICE)\n",
    "        model_lstm.hidden_state = model_lstm.init_hidden(x_)\n",
    "        y_pred = model_lstm(x_)\n",
    "        lo = 0\n",
    "        for word_number in range(y_.shape[0]):\n",
    "            lo += criterion(y_pred[word_number], y_[word_number])\n",
    "        lo.backward()\n",
    "        train_loss += lo.cpu().item()/N_TRAIN_BATCHES\n",
    "        opt.step()\n",
    "    train_loss_epochs.append(train_loss)\n",
    "    \n",
    "    with torch.no_grad():\n",
    "        model_lstm.eval()\n",
    "        test_loss = 0\n",
    "        for x_test, y_test in val_cards_dl:\n",
    "            y_test = y_test.squeeze(1).long().to(DEVICE)\n",
    "            model_lstm.hidden_state = model_lstm.init_hidden(x_test)\n",
    "            y_pred = model_lstm(x_test)\n",
    "            los = 0\n",
    "            for word_number in range(y_test.shape[0]):\n",
    "                los += criterion(y_pred[word_number], y_test[word_number])\n",
    "            test_loss += los.cpu().item()/N_VAL_BATCHES\n",
    "        test_loss_epochs.append(test_loss) \n",
    "        reduce_plato.step(test_loss)\n",
    "        \n",
    "#     Сохранение результатов\n",
    "    json.dump(train_loss_epochs, open(os.path.join(DIR_PATH, 'train_loss.json'), mode='w', encoding='utf-8'), ensure_ascii=False, indent=2)\n",
    "    json.dump(test_loss_epochs, open(os.path.join(DIR_PATH, 'val_loss.json'), mode='w', encoding='utf-8'), ensure_ascii=False, indent=2)\n",
    "\n",
    "    \n",
    "    torch.save(model_lstm.cpu().state_dict(), os.path.join(DIR_PATH, 'net_params_epoch_{}'.format(epoch)))\n",
    "    \n",
    "    print('Epoch: {} Train loss: {:.4f} Test loss: {:.4f} Time: {:.2f}'.format(epoch, train_loss_epochs[-1], test_loss_epochs[-1], \n",
    "                                                                               time.perf_counter() - st))"
   ]
  },
  {
   "cell_type": "code",
   "execution_count": 40,
   "metadata": {},
   "outputs": [
    {
     "data": {
      "image/png": "[encoded data removed]",
      "text/plain": [
       "<Figure size 576x576 with 1 Axes>"
      ]
     },
     "metadata": {},
     "output_type": "display_data"
    }
   ],
   "source": [
    "plt.figure(figsize=(8,8))\n",
    "plt.plot(train_loss_epochs, label=u'train')\n",
    "plt.plot(test_loss_epochs, label=u'val')\n",
    "plt.title(u'Train val loss', fontsize=15)\n",
    "plt.xlabel(u'Epochs', fontsize=15)\n",
    "plt.scatter(np.argmin(test_loss_epochs), test_loss_epochs[np.argmin(test_loss_epochs)], marker='*', s=100, color='red', \n",
    "            label=u'min val loss: {} epoch'.format(np.argmin(test_loss_epochs)))\n",
    "plt.legend(fontsize=15);"
   ]
  },
  {
   "cell_type": "code",
   "execution_count": null,
   "metadata": {},
   "outputs": [],
   "source": [
    "## Записываем параметры сети в словарь и сохраняем его\n",
    "# used_parameters_dict = {'num_layers': 2, 'hidd_dim': 200, 'n_classes': len(tags_id_dict)-1, 'embedding_dim': 300, 'vocab_size': VOCAB_SIZE,\n",
    "#                           \"bidirectional\": True, \"device\": 'cpu'}\n",
    "# json.dump(used_parameters_dict, open(os.path.join(DIR_PATH, 'model_parameters_used.json'), mode='w', encoding='utf-8'), indent=2, \n",
    "#          ensure_ascii=False)"
   ]
  },
  {
   "cell_type": "markdown",
   "metadata": {},
   "source": [
    "Загружаем модель для тестирования"
   ]
  },
  {
   "cell_type": "code",
   "execution_count": 9,
   "metadata": {},
   "outputs": [],
   "source": [
    "from model_architecture import LSTM_TAGGER\n",
    "# Загружаем параметры модели\n",
    "used_parameters_dict = json.load(open(os.path.join(DIR_PATH, 'model_parameters_used.json'), mode='r', encoding='utf-8'))\n",
    "# Инициализируем модель\n",
    "test_model = LSTM_TAGGER(**used_parameters_dict)\n",
    "# Загружаем обученные веса\n",
    "test_model.load_state_dict(torch.load(os.path.join(DIR_PATH, 'net_params_epoch_99')))\n",
    "# Переводим на ЦПУ и в состоение <<тестирование>> (чтобы не считался dropout, batchnorm, ...)\n",
    "test_model.cpu()\n",
    "test_model.eval()\n",
    "# Загружаем словари слово - id, тег - id\n",
    "words_id_dict = json.load(open(os.path.join(DIR_PATH, 'words_id_dict.json'), mode='r', encoding='utf-8'))\n",
    "tags_id_dict = json.load(open(os.path.join(DIR_PATH, 'tags_id_dict.json'), mode='r', encoding='utf-8'))"
   ]
  },
  {
   "cell_type": "markdown",
   "metadata": {},
   "source": [
    "Тестирование качества модели на отложенной выборке"
   ]
  },
  {
   "cell_type": "code",
   "execution_count": 10,
   "metadata": {
    "scrolled": true
   },
   "outputs": [
    {
     "data": {
      "application/vnd.jupyter.widget-view+json": {
       "model_id": "ed3ea67e61434d3d997b962c27ca7e3b",
       "version_major": 2,
       "version_minor": 0
      },
      "text/plain": [
       "HBox(children=(IntProgress(value=0, max=28000), HTML(value='')))"
      ]
     },
     "metadata": {},
     "output_type": "display_data"
    },
    {
     "name": "stdout",
     "output_type": "stream",
     "text": [
      "\n",
      "F мера без учёта тега <o>: 0.9849000359767693\n"
     ]
    }
   ],
   "source": [
    "from sklearn.metrics import f1_score\n",
    "test_model.cpu()\n",
    "test_model.eval()\n",
    "df_te = pd.read_csv(os.path.join(DIR_PATH, 'test_df.csv'))\n",
    "true_tags = []\n",
    "predicted_tags = []\n",
    "random_subindexes = np.random.choice(np.arange(len(df_te)), size=28000, replace=False)\n",
    "for text, tags in tqdm_notebook(df_te.values[random_subindexes]):\n",
    "    true_tags.extend([tags_id_dict.get(i, -1) for i in tags.split()])\n",
    "    sentence_vec = torch.LongTensor([words_id_dict.get(word, words_id_dict['<unk>']) for word in text.split()]).reshape(-1, 1)\n",
    "    with torch.no_grad():\n",
    "        test_model.hidden_state = test_model.init_hidden(sentence_vec)\n",
    "        y_pred = np.argmax(F.log_softmax(test_model(sentence_vec), dim=2).squeeze(1).detach().numpy(), axis=1)\n",
    "        predicted_tags.extend(y_pred)\n",
    "    if len([tags_id_dict.get(i, -1) for i in tags.split()]) != len(y_pred):\n",
    "        print('длины не равны!')\n",
    "        break\n",
    "print('F мера без учёта тега <o>:', f1_score(y_true=true_tags, y_pred=predicted_tags, average='micro', \n",
    "                                             labels=list(tags_id_dict.values())[1:]))"
   ]
  },
  {
   "cell_type": "code",
   "execution_count": 23,
   "metadata": {},
   "outputs": [
    {
     "data": {
      "image/png": "[encoded data removed]",
      "text/plain": [
       "<Figure size 576x576 with 1 Axes>"
      ]
     },
     "metadata": {},
     "output_type": "display_data"
    }
   ],
   "source": [
    "plt.title('F мера по каждому тегу', fontsize=20);\n",
    "separate_f_score = f1_score(y_true=true_tags, y_pred=predicted_tags, average=None)\n",
    "plt.plot(np.sort(separate_f_score));"
   ]
  },
  {
   "cell_type": "markdown",
   "metadata": {},
   "source": [
    "Предсказание тегов на одном тексте"
   ]
  },
  {
   "cell_type": "code",
   "execution_count": 36,
   "metadata": {},
   "outputs": [],
   "source": [
    "id_tags_dict = {x: y for y, x in tags_id_dict.items()}"
   ]
  },
  {
   "cell_type": "code",
   "execution_count": 47,
   "metadata": {},
   "outputs": [
    {
     "name": "stdout",
     "output_type": "stream",
     "text": [
      "Мучает боль в спине\n",
      "\n"
     ]
    },
    {
     "data": {
      "text/plain": [
       "[('мучить', 'o'),\n",
       " ('боль', 'b-боль_в_спине'),\n",
       " ('в', 'i-боль_в_спине'),\n",
       " ('спина', 'i-боль_в_спине')]"
      ]
     },
     "execution_count": 47,
     "metadata": {},
     "output_type": "execute_result"
    }
   ],
   "source": [
    "init_text = 'Последние несколько дней держится высокая температура'\n",
    "init_text = 'Насморк длится непереставая!'\n",
    "init_text = 'Болит живот'\n",
    "init_text = 'Мучает боль в спине'\n",
    "text = text_preprocess(init_text, lemmatized=True)\n",
    "test_model.cpu()\n",
    "test_model.eval()\n",
    "with torch.no_grad():\n",
    "    sentence_vec = torch.LongTensor([words_id_dict.get(word, words_id_dict['<unk>']) for word in text]).reshape(-1, 1)\n",
    "    with torch.no_grad():\n",
    "        test_model.hidden_state = test_model.init_hidden(sentence_vec)\n",
    "        y_pred = np.argmax(F.log_softmax(test_model(sentence_vec), dim=2).squeeze(1).detach().numpy(), axis=1)\n",
    "print(init_text)\n",
    "print()\n",
    "[(word, id_tags_dict.get(id_, '<unk>')) for word, id_ in zip(text, y_pred)]"
   ]
  },
  {
   "cell_type": "code",
   "execution_count": null,
   "metadata": {},
   "outputs": [],
   "source": []
  }
 ],
 "metadata": {
  "kernelspec": {
   "display_name": "Python 3",
   "language": "python",
   "name": "python3"
  },
  "language_info": {
   "codemirror_mode": {
    "name": "ipython",
    "version": 3
   },
   "file_extension": ".py",
   "mimetype": "text/x-python",
   "name": "python",
   "nbconvert_exporter": "python",
   "pygments_lexer": "ipython3",
   "version": "3.7.1"
  }
 },
 "nbformat": 4,
 "nbformat_minor": 2
}
